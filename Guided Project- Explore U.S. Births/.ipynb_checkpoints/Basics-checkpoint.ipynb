{
 "cells": [
  {
   "cell_type": "code",
   "execution_count": 2,
   "metadata": {},
   "outputs": [
    {
     "name": "stdout",
     "output_type": "stream",
     "text": [
      "['year,month,date_of_month,day_of_week,births', '1994,1,1,6,8096', '1994,1,2,7,7772', '1994,1,3,1,10142', '1994,1,4,2,11248', '1994,1,5,3,11053', '1994,1,6,4,11406', '1994,1,7,5,11251', '1994,1,8,6,8653', '1994,1,9,7,7910']\n"
     ]
    }
   ],
   "source": [
    "string = open(\"US_births_1994-2003_CDC_NCHS.csv\", \"r\").read()\n",
    "lines = string.split(\"\\n\")\n",
    "print(lines[0:10])"
   ]
  },
  {
   "cell_type": "code",
   "execution_count": 3,
   "metadata": {},
   "outputs": [
    {
     "name": "stdout",
     "output_type": "stream",
     "text": [
      "[[1994, 1, 1, 6, 8096], [1994, 1, 2, 7, 7772], [1994, 1, 3, 1, 10142], [1994, 1, 4, 2, 11248], [1994, 1, 5, 3, 11053], [1994, 1, 6, 4, 11406], [1994, 1, 7, 5, 11251], [1994, 1, 8, 6, 8653], [1994, 1, 9, 7, 7910], [1994, 1, 10, 1, 10498]]\n"
     ]
    }
   ],
   "source": [
    "def read_csv(filename):\n",
    "    string = open(\"US_births_1994-2003_CDC_NCHS.csv\", \"r\").read()\n",
    "    lines = string.split(\"\\n\")\n",
    "    string_list = lines[1:len(lines)]\n",
    "    final_list = []\n",
    "    for line in string_list:\n",
    "        int_fields = []\n",
    "        string_fields = line.split(\",\")\n",
    "        for field in string_fields:\n",
    "            int_fields.append(int(field))\n",
    "        final_list.append(int_fields)\n",
    "    return final_list\n",
    "\n",
    "cdc_list = read_csv(\"US_births_1994-2003_CDC_NCHS.csv\")\n",
    "print(cdc_list[0:10])"
   ]
  },
  {
   "cell_type": "code",
   "execution_count": 4,
   "metadata": {},
   "outputs": [
    {
     "name": "stdout",
     "output_type": "stream",
     "text": [
      "{1: 3232517, 2: 3018140, 3: 3322069, 4: 3185314, 5: 3350907, 6: 3296530, 7: 3498783, 8: 3525858, 9: 3439698, 10: 3378814, 11: 3171647, 12: 3301860}\n"
     ]
    }
   ],
   "source": [
    "def month_births(list_of_lists):\n",
    "    births_per_month = {}\n",
    "    for list in list_of_lists:\n",
    "        month = list[1]\n",
    "        births = list[4]\n",
    "        if month in births_per_month:\n",
    "            births_per_month[month] += births\n",
    "        else:\n",
    "            births_per_month[month] = births\n",
    "    return births_per_month\n",
    "\n",
    "cdc_month_births = month_births(cdc_list)\n",
    "print(cdc_month_births)"
   ]
  },
  {
   "cell_type": "code",
   "execution_count": 5,
   "metadata": {},
   "outputs": [
    {
     "name": "stdout",
     "output_type": "stream",
     "text": [
      "{6: 4562111, 7: 4079723, 1: 5789166, 2: 6446196, 3: 6322855, 4: 6288429, 5: 6233657}\n"
     ]
    }
   ],
   "source": [
    "def dow_births(list_of_lists):\n",
    "    births_per_dow = {}\n",
    "    for list in list_of_lists:\n",
    "        dow = list[3]\n",
    "        births = list[4]\n",
    "        if dow in births_per_dow:\n",
    "            births_per_dow[dow] += births\n",
    "        else:\n",
    "            births_per_dow[dow] = births\n",
    "    return births_per_dow\n",
    "\n",
    "cdc_day_births = dow_births(cdc_list)\n",
    "print(cdc_day_births)"
   ]
  },
  {
   "cell_type": "code",
   "execution_count": 6,
   "metadata": {},
   "outputs": [
    {
     "name": "stdout",
     "output_type": "stream",
     "text": [
      "{1: 3232517, 2: 3018140, 3: 3322069, 4: 3185314, 5: 3350907, 6: 3296530, 7: 3498783, 8: 3525858, 9: 3439698, 10: 3378814, 11: 3171647, 12: 3301860}\n"
     ]
    }
   ],
   "source": [
    "def calc_counts(data, column):\n",
    "    births_per_unit = {}\n",
    "    for list in data:\n",
    "        unit = list[column]\n",
    "        births = list[4]\n",
    "        if unit in births_per_unit:\n",
    "            births_per_unit[unit] += births\n",
    "        else:\n",
    "            births_per_unit[unit] = births\n",
    "    return births_per_unit\n",
    "\n",
    "cdc_year_births = calc_counts(cdc_list, 0)\n",
    "cdc_month_births = calc_counts(cdc_list, 1)\n",
    "cdc_dom_births = calc_counts(cdc_list, 2)\n",
    "cdc_dow_births = calc_counts(cdc_list, 3)\n",
    "\n",
    "print(cdc_month_births)"
   ]
  },
  {
   "cell_type": "code",
   "execution_count": 7,
   "metadata": {},
   "outputs": [
    {
     "name": "stdout",
     "output_type": "stream",
     "text": [
      "{'min': -5.5, 'max': 4.7}\n"
     ]
    }
   ],
   "source": [
    "def min_max(dictionary):\n",
    "    i = 0\n",
    "    for key in dictionary:\n",
    "        if i==0:\n",
    "            min = max = dictionary[key]\n",
    "        else:\n",
    "            if dictionary[key]>max:\n",
    "                max = dictionary[key]\n",
    "            if dictionary[key]<min:\n",
    "                min = dictionary[key] \n",
    "        i+=1\n",
    "    return {\"min\": min, \"max\": max}\n",
    "\n",
    "dict = {1: 3, 2: -1.5, 3: 4.7, 4: -5.5, 5: 2.33}\n",
    "print(min_max(dict))"
   ]
  },
  {
   "cell_type": "code",
   "execution_count": 23,
   "metadata": {},
   "outputs": [
    {
     "name": "stdout",
     "output_type": "stream",
     "text": [
      "{'month_births': {1: 330674, 2: 303977, 3: 331505, 4: 324432, 5: 339007, 6: 327588, 7: 357669, 8: 359417, 9: 348814, 10: 345814, 11: 318573, 12: 334256}, 'dom_births': {1: 128723, 2: 127603, 3: 130009, 4: 134801, 5: 135570, 6: 130276, 7: 129607, 8: 133809, 9: 131374, 10: 131409, 11: 136211, 12: 137075, 13: 128197, 14: 130846, 15: 134663, 16: 132736, 17: 131211, 18: 139139, 19: 137078, 20: 133245, 21: 130365, 22: 135134, 23: 132382, 24: 127967, 25: 133627, 26: 135189, 27: 128334, 28: 125478, 29: 119125, 30: 124267, 31: 76276}, 'dow_births': {2: 666809, 3: 640423, 4: 642968, 5: 638827, 6: 445770, 7: 391375, 1: 595554}}\n"
     ]
    }
   ],
   "source": [
    "def stats_for_year(year, list_of_lists):\n",
    "    subset_for_year = []\n",
    "    for list in list_of_lists:\n",
    "        if str(list[0]) == year:\n",
    "            subset_for_year.append(list)\n",
    "\n",
    "    stats = {}\n",
    "    stats[\"month_births\"] = calc_counts(subset_for_year, 1)\n",
    "    stats[\"dom_births\"] = calc_counts(subset_for_year, 2)\n",
    "    stats[\"dow_births\"] = calc_counts(subset_for_year, 3)\n",
    "    \n",
    "    return stats\n",
    "    \n",
    "stats_2002 = stats_for_year(\"2002\", cdc_list)\n",
    "print(stats_2002)"
   ]
  },
  {
   "cell_type": "code",
   "execution_count": null,
   "metadata": {
    "collapsed": true
   },
   "outputs": [],
   "source": []
  },
  {
   "cell_type": "code",
   "execution_count": null,
   "metadata": {
    "collapsed": true
   },
   "outputs": [],
   "source": []
  }
 ],
 "metadata": {
  "anaconda-cloud": {},
  "kernelspec": {
   "display_name": "Python 3",
   "language": "python",
   "name": "python3"
  },
  "language_info": {
   "codemirror_mode": {
    "name": "ipython",
    "version": 3
   },
   "file_extension": ".py",
   "mimetype": "text/x-python",
   "name": "python",
   "nbconvert_exporter": "python",
   "pygments_lexer": "ipython3",
   "version": "3.6.1"
  }
 },
 "nbformat": 4,
 "nbformat_minor": 1
}
